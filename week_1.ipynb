{
 "cells": [
  {
   "cell_type": "markdown",
   "metadata": {},
   "source": [
    "#### Imports"
   ]
  },
  {
   "cell_type": "code",
   "execution_count": 10,
   "metadata": {},
   "outputs": [],
   "source": [
    "import numpy as np\n",
    "import scipy.stats\n",
    "import statsmodels.stats.power\n",
    "import matplotlib.pyplot as plt"
   ]
  },
  {
   "cell_type": "markdown",
   "metadata": {},
   "source": [
    "#### Which p-values can you expect?"
   ]
  },
  {
   "cell_type": "code",
   "execution_count": 11,
   "metadata": {},
   "outputs": [
    {
     "name": "stdout",
     "output_type": "stream",
     "text": [
      "Empirical Calculation of Statistical Power: 0.800620\n",
      "Formal Calculation of Statistical Power: 0.7999244241018141\n",
      "Wall time: 18.5 s\n"
     ]
    }
   ],
   "source": [
    "n_sims = 100000                     # Number of simulations\n",
    "\n",
    "sample_size = 51                    # Sample size of the data for testing the hypotheses\n",
    "sample_mean = 106                   # Sample mean\n",
    "sample_sd = 15                      # Sample standard deviation\n",
    "\n",
    "alpha = 0.05                        # level of significance\n",
    "\n",
    "p_values_array = np.array([])       # list to store the p-values \n",
    "\n",
    "for i in range(n_sims):\n",
    "    x = np.random.normal(loc = sample_mean, scale = sample_sd, size = sample_size) # simulated dataset\n",
    "    z = scipy.stats.ttest_1samp(x, popmean = 100) # performing the one-sample t-test\n",
    "    p_values_array = np.append(p_values_array,z.pvalue) # getting the p-value and storing it\n",
    "\n",
    "# Empirical Calculation of Statistical Power \n",
    "print('Empirical Calculation of Statistical Power: {0:1f}'.format(np.sum(p_values_array < alpha)/ n_sims))\n",
    "\n",
    "# Formal Calculation of Statistical Power\n",
    "print('Formal Calculation of Statistical Power: ' + str(statsmodels.stats.power.TTestPower().power(effect_size = (sample_mean -100)/sample_sd, nobs = sample_size, alpha = alpha)))"
   ]
  },
  {
   "cell_type": "code",
   "execution_count": 4,
   "metadata": {},
   "outputs": [
    {
     "data": {
      "image/png": "[encoded data removed]",
      "text/plain": [
       "<Figure size 720x432 with 1 Axes>"
      ]
     },
     "metadata": {
      "needs_background": "light"
     },
     "output_type": "display_data"
    }
   ],
   "source": [
    "# Histogram\n",
    "plt.figure(figsize = (10,6))\n",
    "plt.hist(p_values_array, bins = 20, range = (0, 1), edgecolor = 'black', color = 'grey', alpha = 0.5)\n",
    "plt.title('p-value distribution with {0:.1f}% Power'.format((np.sum(p_values_array < 0.05)*100/ n_sims)))\n",
    "plt.ylabel('Number of p-values')\n",
    "plt.xlabel('p-values')\n",
    "# plt.xlim([0.04,0.05])\n",
    "# plt.ylim([0,10000])\n",
    "plt.show()"
   ]
  },
  {
   "cell_type": "code",
   "execution_count": null,
   "metadata": {},
   "outputs": [],
   "source": []
  }
 ],
 "metadata": {
  "kernelspec": {
   "display_name": "Python 3",
   "language": "python",
   "name": "python3"
  },
  "language_info": {
   "codemirror_mode": {
    "name": "ipython",
    "version": 3
   },
   "file_extension": ".py",
   "mimetype": "text/x-python",
   "name": "python",
   "nbconvert_exporter": "python",
   "pygments_lexer": "ipython3",
   "version": "3.7.7"
  }
 },
 "nbformat": 4,
 "nbformat_minor": 4
}
